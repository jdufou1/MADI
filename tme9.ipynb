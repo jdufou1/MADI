{
 "cells": [
  {
   "cell_type": "code",
   "execution_count": 1,
   "id": "3a2cd000",
   "metadata": {},
   "outputs": [],
   "source": [
    "import torch\n",
    "import torchvision\n",
    "import numpy as np\n",
    "from torch import nn\n",
    "from torch.distributions import Normal\n",
    "from torchvision import datasets \n",
    "from torchvision import transforms \n",
    "from tqdm import tqdm\n",
    "import matplotlib.pyplot as plt\n"
   ]
  },
  {
   "cell_type": "code",
   "execution_count": 2,
   "id": "97cc5256",
   "metadata": {},
   "outputs": [],
   "source": [
    "class Encodeur(nn.Module) :\n",
    "    def __init__(self,dim_input,dim_output,dim_mu_sigma,device) :\n",
    "        super().__init__()\n",
    "        self.network = nn.Sequential(\n",
    "            nn.Linear(dim_input,dim_output,device=device),\n",
    "            nn.ReLU(),\n",
    "            nn.Linear(dim_output,dim_output,device=device),\n",
    "            nn.ReLU(),\n",
    "        )\n",
    "        self.mu = nn.Linear(dim_output,dim_mu_sigma,device=device)\n",
    "        self.log_variance = nn.Linear(dim_output,dim_mu_sigma,device=device)\n",
    "        \n",
    "    def forward(self,x):\n",
    "        x2 = self.network(x)\n",
    "        mu = self.mu(x2)\n",
    "        log_variance = self.log_variance(x2)\n",
    "        return mu,log_variance"
   ]
  },
  {
   "cell_type": "code",
   "execution_count": 3,
   "id": "f6bdfdb9",
   "metadata": {},
   "outputs": [],
   "source": [
    "class Decodeur(nn.Module) :\n",
    "    def __init__(self,dim_input,dim_output,dim_mu_sigma,device) :\n",
    "        super().__init__()\n",
    "        self.network = nn.Sequential(\n",
    "            nn.Linear(dim_mu_sigma,dim_output,device=device),\n",
    "            nn.ReLU(),\n",
    "            nn.Linear(dim_output,dim_output,device=device),\n",
    "            nn.ReLU(),\n",
    "            nn.Linear(dim_output,dim_input,device=device),\n",
    "            nn.Sigmoid()\n",
    "        )\n",
    "        \n",
    "    def forward(self,x):\n",
    "        return self.network(x)"
   ]
  },
  {
   "cell_type": "code",
   "execution_count": 4,
   "id": "303e6d42",
   "metadata": {},
   "outputs": [],
   "source": [
    "def visualise_image(epoch,x,x_reconstruit):\n",
    "    fig = plt.figure(figsize=(8, 4))\n",
    "    \n",
    "    ax1 = fig.add_subplot(121)\n",
    "    ax1.set_title(\"Training Images Epoch \" + str(epoch))\n",
    "    ax1.axis('off')\n",
    "    originals = torchvision.utils.make_grid(x.view(-1,1,28,28), padding=2, normalize=True)\n",
    "    plt.imshow(np.transpose(originals,(1,2,0)))\n",
    "\n",
    "    ax2 = fig.add_subplot(122)\n",
    "    ax2.set_title(\"Reconstructions Epoch \"+str(epoch))\n",
    "    ax2.axis('off')\n",
    "    reconstructed = torchvision.utils.make_grid(x_reconstruit.view(-1,1,28,28), padding=2, normalize=True)\n",
    "    plt.imshow(np.transpose(reconstructed,(1,2,0)))"
   ]
  },
  {
   "cell_type": "code",
   "execution_count": 5,
   "id": "30c4e3e8",
   "metadata": {},
   "outputs": [],
   "source": [
    "class VAE(nn.Module) :\n",
    "    def __init__(self,dim_input,dim_output,dim_mu_sigma,device) :\n",
    "        super().__init__()\n",
    "        self.encodeur = Encodeur(dim_input,dim_output,dim_mu_sigma,device)\n",
    "        self.decodeur = Decodeur(dim_input,dim_output,dim_mu_sigma,device)\n",
    "        \n",
    "        \n",
    "    def sample(self,mu,log_variance):\n",
    "        sigma = torch.exp(0.5 * log_variance)\n",
    "        distribution = Normal(0,1)\n",
    "        eps = distribution.rsample(sigma.size())\n",
    "        return mu + (eps * sigma)\n",
    "        \n",
    "    def forward(self,x):\n",
    "        mu,log_variance = self.encodeur(x)\n",
    "        z = self.sample(mu,log_variance)\n",
    "        x_reconstruit = self.decodeur(z)\n",
    "        return mu,log_variance,z,x_reconstruit"
   ]
  },
  {
   "cell_type": "code",
   "execution_count": 6,
   "id": "149b386e",
   "metadata": {},
   "outputs": [],
   "source": [
    "class LossVAE() :\n",
    "    \n",
    "    def loss_reconstruction(self,x,x_reconstruit):\n",
    "        return nn.functional.binary_cross_entropy(x, x_reconstruit,reduction=\"sum\")\n",
    "    \n",
    "    def loss_kullback_leibler(self ,mu ,log_variance):\n",
    "        return -0.5 * torch.sum( 1 +  log_variance - mu.pow(2) - log_variance.exp() )\n",
    "    \n",
    "    def loss(self,mu ,log_variance,x,x_reconstruit):\n",
    "        reconstruction = self.loss_reconstruction(x,x_reconstruit)\n",
    "#         print(reconstruction)\n",
    "        kullback_leibler = self.loss_kullback_leibler( mu ,log_variance)\n",
    "#         print(kullback_leibler)\n",
    "        return reconstruction + kullback_leibler"
   ]
  },
  {
   "cell_type": "code",
   "execution_count": null,
   "id": "0386920f",
   "metadata": {},
   "outputs": [],
   "source": []
  },
  {
   "cell_type": "code",
   "execution_count": null,
   "id": "141dc065",
   "metadata": {},
   "outputs": [],
   "source": []
  },
  {
   "cell_type": "code",
   "execution_count": null,
   "id": "ee3eb2ef",
   "metadata": {},
   "outputs": [],
   "source": []
  },
  {
   "cell_type": "code",
   "execution_count": 7,
   "id": "b9f01b81",
   "metadata": {},
   "outputs": [],
   "source": [
    "trnsform = transforms.Compose([ transforms.ToTensor(),transforms.Lambda(lambda x : x / 255)])                                    \n",
    "train = datasets.MNIST(root='./data', train=True, download=True,transform=trnsform)\n",
    "test = datasets.MNIST(root='./data', train=False, download=True, transform=trnsform)\n",
    "loader_train = torch.utils.data.DataLoader(train, batch_size=10, shuffle=True)\n",
    "loader_test = torch.utils.data.DataLoader(test, batch_size=10, shuffle=True)"
   ]
  },
  {
   "cell_type": "code",
   "execution_count": 8,
   "id": "d52dffeb",
   "metadata": {},
   "outputs": [
    {
     "data": {
      "text/plain": [
       "torch.Size([60000, 28, 28])"
      ]
     },
     "execution_count": 8,
     "metadata": {},
     "output_type": "execute_result"
    }
   ],
   "source": [
    "train.data.shape"
   ]
  },
  {
   "cell_type": "code",
   "execution_count": 9,
   "id": "0f3f1654",
   "metadata": {},
   "outputs": [
    {
     "data": {
      "text/plain": [
       "torch.Size([10000, 28, 28])"
      ]
     },
     "execution_count": 9,
     "metadata": {},
     "output_type": "execute_result"
    }
   ],
   "source": [
    "test.data.shape"
   ]
  },
  {
   "cell_type": "code",
   "execution_count": 10,
   "id": "6b953a37",
   "metadata": {},
   "outputs": [],
   "source": [
    "dim_input = 28 * 28\n",
    "dim_output = 20 * 20\n",
    "dim_mu_sigma = 2\n",
    "device = 'cpu'\n",
    "epochs = 10\n",
    "lr = 0.0001"
   ]
  },
  {
   "cell_type": "code",
   "execution_count": 11,
   "id": "9d890a9b",
   "metadata": {},
   "outputs": [],
   "source": [
    "vae = VAE(dim_input,dim_output,dim_mu_sigma,device)\n",
    "lossVAE = LossVAE()\n",
    "opt = torch.optim.Adam(vae.parameters(),lr=lr)"
   ]
  },
  {
   "cell_type": "code",
   "execution_count": null,
   "id": "4f0f9252",
   "metadata": {},
   "outputs": [
    {
     "name": "stderr",
     "output_type": "stream",
     "text": [
      "  0%|                                                                                           | 0/10 [00:00<?, ?it/s]<ipython-input-4-e5110f17ff48>:2: RuntimeWarning: More than 20 figures have been opened. Figures created through the pyplot interface (`matplotlib.pyplot.figure`) are retained until explicitly closed and may consume too much memory. (To control this warning, see the rcParam `figure.max_open_warning`).\n",
      "  fig = plt.figure(figsize=(8, 4))\n"
     ]
    },
    {
     "name": "stdout",
     "output_type": "stream",
     "text": [
      "[tensor(321177.8125)]\n"
     ]
    },
    {
     "name": "stderr",
     "output_type": "stream",
     "text": [
      " 10%|████████                                                                        | 1/10 [11:39<1:44:58, 699.89s/it]"
     ]
    },
    {
     "name": "stdout",
     "output_type": "stream",
     "text": [
      "[tensor(320607.3750)]\n",
      "[tensor(321177.8125), tensor(321179.5312)]\n"
     ]
    },
    {
     "name": "stderr",
     "output_type": "stream",
     "text": [
      " 20%|████████████████▍                                                                 | 2/10 [14:32<51:58, 389.79s/it]"
     ]
    },
    {
     "name": "stdout",
     "output_type": "stream",
     "text": [
      "[tensor(320607.3750), tensor(320598.7500)]\n"
     ]
    }
   ],
   "source": [
    "loss_train = []\n",
    "loss_test = []\n",
    "\n",
    "for epoch in tqdm(range(epochs)) :\n",
    "    \n",
    "    tmp_train = []\n",
    "    \n",
    "    for x,y in loader_train :\n",
    "        x = x.view(10,-1)\n",
    "        mu,log_variance,_,x_reconstruit = vae(x)\n",
    "        loss = lossVAE.loss(mu,log_variance,x,x_reconstruit)\n",
    "        loss.backward()\n",
    "        opt.zero_grad()\n",
    "        opt.step()\n",
    "        tmp_train.append(loss.detach())\n",
    "        if epoch % 2 == 0 : visualise_image(epoch,x,x_reconstruit)\n",
    "            \n",
    "            \n",
    "\n",
    "    \n",
    "    loss_train.append(torch.tensor(tmp_train).mean())\n",
    "    print(loss_train)\n",
    "    \n",
    "    tmp_test = []\n",
    "    for x,y in loader_test :\n",
    "        with torch.no_grad():\n",
    "            x = x.view(10,-1)\n",
    "            mu,log_variance,_,x_reconstruit = vae(x)\n",
    "            loss = lossVAE.loss(mu,log_variance,x,x_reconstruit)\n",
    "            tmp_test.append(loss.detach())\n",
    "            if epoch % 2 == 0 : visualise_image(epoch,x,x_reconstruit)\n",
    "                \n",
    "    loss_test.append(torch.tensor(tmp_test).mean())\n",
    "    print(loss_test)\n",
    "           \n",
    "        "
   ]
  },
  {
   "cell_type": "code",
   "execution_count": 12,
   "id": "e3af4571",
   "metadata": {},
   "outputs": [
    {
     "data": {
      "text/plain": [
       "[tensor(nan),\n",
       " tensor(nan),\n",
       " tensor(nan),\n",
       " tensor(nan),\n",
       " tensor(nan),\n",
       " tensor(nan),\n",
       " tensor(nan),\n",
       " tensor(nan),\n",
       " tensor(nan),\n",
       " tensor(nan)]"
      ]
     },
     "execution_count": 12,
     "metadata": {},
     "output_type": "execute_result"
    }
   ],
   "source": [
    "loss_train"
   ]
  },
  {
   "cell_type": "code",
   "execution_count": 15,
   "id": "3129fb15",
   "metadata": {},
   "outputs": [
    {
     "data": {
      "text/plain": [
       "[<matplotlib.lines.Line2D at 0x2164a26d250>]"
      ]
     },
     "execution_count": 15,
     "metadata": {},
     "output_type": "execute_result"
    },
    {
     "data": {
      "image/png": "[encoded data removed]",
      "text/plain": [
       "<Figure size 432x288 with 1 Axes>"
      ]
     },
     "metadata": {
      "needs_background": "light"
     },
     "output_type": "display_data"
    }
   ],
   "source": [
    "plt.plot(loss_test)"
   ]
  },
  {
   "cell_type": "code",
   "execution_count": 14,
   "id": "a635b106",
   "metadata": {},
   "outputs": [
    {
     "data": {
      "text/plain": [
       "[<matplotlib.lines.Line2D at 0x2164a2b1850>]"
      ]
     },
     "execution_count": 14,
     "metadata": {},
     "output_type": "execute_result"
    },
    {
     "data": {
      "image/png": "[encoded data removed]",
      "text/plain": [
       "<Figure size 432x288 with 1 Axes>"
      ]
     },
     "metadata": {
      "needs_background": "light"
     },
     "output_type": "display_data"
    }
   ],
   "source": [
    "plt.plot(loss_train)"
   ]
  },
  {
   "cell_type": "code",
   "execution_count": 15,
   "id": "2b26e5d6",
   "metadata": {},
   "outputs": [
    {
     "data": {
      "text/plain": [
       "[<matplotlib.lines.Line2D at 0x1f3972c18b0>]"
      ]
     },
     "execution_count": 15,
     "metadata": {},
     "output_type": "execute_result"
    },
    {
     "data": {
      "image/png": "[encoded data removed]",
      "text/plain": [
       "<Figure size 432x288 with 1 Axes>"
      ]
     },
     "metadata": {
      "needs_background": "light"
     },
     "output_type": "display_data"
    }
   ],
   "source": []
  },
  {
   "cell_type": "code",
   "execution_count": null,
   "id": "47ee3841",
   "metadata": {},
   "outputs": [],
   "source": []
  }
 ],
 "metadata": {
  "kernelspec": {
   "display_name": "Python 3 (ipykernel)",
   "language": "python",
   "name": "python3"
  },
  "language_info": {
   "codemirror_mode": {
    "name": "ipython",
    "version": 3
   },
   "file_extension": ".py",
   "mimetype": "text/x-python",
   "name": "python",
   "nbconvert_exporter": "python",
   "pygments_lexer": "ipython3",
   "version": "3.8.10"
  }
 },
 "nbformat": 4,
 "nbformat_minor": 5
}
