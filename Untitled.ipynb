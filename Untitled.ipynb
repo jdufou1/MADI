{
 "cells": [
  {
   "cell_type": "code",
   "execution_count": 2,
   "id": "ae01eb79-ca08-4a89-9c00-5005bc1c42eb",
   "metadata": {},
   "outputs": [
    {
     "data": {
      "text/plain": [
       "0"
      ]
     },
     "execution_count": 2,
     "metadata": {},
     "output_type": "execute_result"
    }
   ],
   "source": [
    "5 * False"
   ]
  },
  {
   "cell_type": "code",
   "execution_count": null,
   "id": "4cda4583-c650-4aff-82c9-34b47db5666c",
   "metadata": {},
   "outputs": [],
   "source": []
  }
 ],
 "metadata": {
  "kernelspec": {
   "display_name": "Python 3 (ipykernel)",
   "language": "python",
   "name": "python3"
  },
  "language_info": {
   "codemirror_mode": {
    "name": "ipython",
    "version": 3
   },
   "file_extension": ".py",
   "mimetype": "text/x-python",
   "name": "python",
   "nbconvert_exporter": "python",
   "pygments_lexer": "ipython3",
   "version": "3.8.10"
  }
 },
 "nbformat": 4,
 "nbformat_minor": 5
}
